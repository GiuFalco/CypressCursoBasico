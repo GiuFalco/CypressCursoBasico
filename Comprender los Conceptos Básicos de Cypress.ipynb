{
 "cells": [
  {
   "cell_type": "markdown",
   "metadata": {},
   "source": [
    "# Comprender los Conceptos Básicos de Cypress\n",
    "\n",
    "Para comprender los conceptos básicos de Cypress, es esencial conocer la arquitectura general de Cypress y algunos términos clave asociados."
   ]
  },
  {
   "cell_type": "markdown",
   "metadata": {},
   "source": [
    "#### 1. Arquitectura de Cypress:\n",
    "\n",
    "Cypress es una herramienta de prueba de extremo a extremo que se ejecuta en el navegador. A diferencia de otras herramientas de prueba, Cypress se ejecuta en el mismo contexto que la aplicación que estás probando. La arquitectura de Cypress consta de dos partes principales:\n",
    "\n",
    "+ Cypress Dashboard: Proporciona características avanzadas como grabación de video, ejecuciones paralelas, informes y análisis detallado.\n",
    "\n",
    "+ Cypress Test Runner: La interfaz de usuario que se utiliza para escribir, ejecutar y depurar pruebas."
   ]
  },
  {
   "cell_type": "markdown",
   "metadata": {},
   "source": [
    "#### 2. Estructura de Prueba en Cypress:\n",
    "\n",
    "Las pruebas en Cypress se organizan en archivos JavaScript (o TypeScript) dentro del directorio cypress/integration. Cada archivo puede contener una o varias suites de pruebas, y cada suite puede tener una o varias pruebas. Una prueba Cypress suele estar compuesta por una serie de comandos que interactúan con la aplicación bajo prueba."
   ]
  },
  {
   "cell_type": "markdown",
   "metadata": {},
   "source": [
    "#### 3. Ciclo de Vida de una Prueba:\n",
    "\n",
    "Las pruebas en Cypress pasan por un ciclo de vida específico. Algunos eventos clave en el ciclo de vida incluyen:\n",
    "\n",
    "+ before: Se ejecuta una vez antes de todas las pruebas en el archivo.\n",
    "+ beforeEach: Se ejecuta antes de cada prueba.\n",
    "+ test: Contiene los comandos y las aserciones que forman la prueba.\n",
    "+ afterEach: Se ejecuta después de cada prueba.\n",
    "+ after: Se ejecuta una vez después de todas las pruebas en el archivo."
   ]
  },
  {
   "cell_type": "markdown",
   "metadata": {},
   "source": [
    "#### 4. Comandos Cypress:\n",
    "\n",
    "Cypress proporciona una variedad de comandos para interactuar con la aplicación y realizar aserciones. Algunos comandos comunes incluyen:\n",
    "\n",
    "+ cy.visit(url): Visita una URL.\n",
    "+ cy.get(selector): Selecciona un elemento por su selector.\n",
    "+ cy.click(): Realiza un clic en un elemento.\n",
    "+ cy.type(text): Escribe texto en un campo de entrada.\n",
    "+ cy.should(condition): Realiza una aserción."
   ]
  },
  {
   "cell_type": "markdown",
   "metadata": {},
   "source": [
    "#### 5. Selectores Cypress:\n",
    "\n",
    "Cypress utiliza selectores jQuery para seleccionar elementos en la página. Los selectores pueden ser de diferentes tipos, como por ID, clase, etiqueta, atributos, etc."
   ]
  },
  {
   "cell_type": "markdown",
   "metadata": {},
   "source": [
    "#### 6. Assertions (Afirmaciones) Cypress:\n",
    "\n",
    "Las afirmaciones en Cypress se utilizan para verificar el estado y el comportamiento de la aplicación. Pueden verificar texto, valores de atributos, existencia de elementos, visibilidad, entre otros."
   ]
  },
  {
   "cell_type": "markdown",
   "metadata": {},
   "source": [
    "#### 7. Manejo de Asincronía:\n",
    "\n",
    "Cypress maneja automáticamente la asincronía y proporciona comandos específicos para esperar que los elementos estén presentes o que las operaciones asíncronas se completen."
   ]
  },
  {
   "cell_type": "markdown",
   "metadata": {},
   "source": [
    "#### 8. Hooks y Eventos:\n",
    "\n",
    "Cypress permite el uso de ganchos (before, beforeEach, test, afterEach, after) y eventos para personalizar y extender el comportamiento de las pruebas."
   ]
  },
  {
   "cell_type": "markdown",
   "metadata": {},
   "source": [
    "#### 9. Plugins y Personalización:\n",
    "\n",
    "Cypress es altamente personalizable y extensible a través de plugins. Puedes utilizar plugins para añadir funcionalidades adicionales a tus pruebas."
   ]
  },
  {
   "cell_type": "markdown",
   "metadata": {},
   "source": [
    "#### 10. Documentación y Comunidad:\n",
    "\n",
    "La documentación oficial de Cypress y la comunidad activa son recursos valiosos para aprender y resolver problemas. La documentación es completa y ofrece ejemplos detallados."
   ]
  },
  {
   "cell_type": "markdown",
   "metadata": {},
   "source": [
    "#### 11. Cypress Dashboard:\n",
    "\n",
    "El Cypress Dashboard proporciona características adicionales para la gestión y el análisis de pruebas, como la grabación de video, ejecuciones paralelas y más.\n",
    "\n",
    "Comprender estos conceptos básicos proporciona una base sólida para escribir pruebas efectivas con Cypress y aprovechar al máximo esta herramienta de prueba de extremo a extremo."
   ]
  },
  {
   "cell_type": "markdown",
   "metadata": {},
   "source": [
    "#### 12. ejemplo básico de cómo crear una prueba en Cypress:"
   ]
  },
  {
   "cell_type": "code",
   "execution_count": null,
   "metadata": {
    "vscode": {
     "languageId": "javascript"
    }
   },
   "outputs": [],
   "source": [
    "describe('Inicio de Sesión', () => {\n",
    "  it('Debería iniciar sesión con éxito', () => {\n",
    "    // Visitar la página de inicio de sesión\n",
    "    cy.visit('https://ejemplo.com/login');\n",
    "\n",
    "    // Introducir credenciales y hacer clic en el botón de inicio de sesión\n",
    "    cy.get('#username').type('usuario');\n",
    "    cy.get('#password').type('contraseña');\n",
    "    cy.get('button[type=\"submit\"]').click();\n",
    "\n",
    "    // Verificar que la página de inicio esté cargada correctamente después de iniciar sesión\n",
    "    cy.url().should('include', '/dashboard');\n",
    "    cy.get('.mensaje-bienvenida').should('be.visible');\n",
    "  });\n",
    "\n",
    "  it('Debería mostrar un mensaje de error en caso de credenciales incorrectas', () => {\n",
    "    // Visitar la página de inicio de sesión\n",
    "    cy.visit('https://ejemplo.com/login');\n",
    "\n",
    "    // Introducir credenciales incorrectas y hacer clic en el botón de inicio de sesión\n",
    "    cy.get('#username').type('usuario-incorrecto');\n",
    "    cy.get('#password').type('contraseña-incorrecta');\n",
    "    cy.get('button[type=\"submit\"]').click();\n",
    "\n",
    "    // Verificar que se muestre un mensaje de error\n",
    "    cy.get('.mensaje-error').should('be.visible');\n",
    "  });\n",
    "});"
   ]
  }
 ],
 "metadata": {
  "language_info": {
   "name": "python"
  }
 },
 "nbformat": 4,
 "nbformat_minor": 2
}
