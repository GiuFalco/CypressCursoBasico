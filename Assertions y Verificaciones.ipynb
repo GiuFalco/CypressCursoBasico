{
 "cells": [
  {
   "cell_type": "markdown",
   "metadata": {},
   "source": [
    "# Assertions y Verificaciones\n",
    "\n",
    "En Cypress, las assertions (afirmaciones) y las verificaciones son esenciales para validar el comportamiento de la aplicación durante la ejecución de las pruebas. Cypress proporciona una variedad de comandos para realizar afirmaciones y verificaciones sobre elementos y propiedades en la página."
   ]
  },
  {
   "cell_type": "markdown",
   "metadata": {},
   "source": [
    "#### 1. Texto de un elemento:"
   ]
  },
  {
   "cell_type": "code",
   "execution_count": null,
   "metadata": {
    "vscode": {
     "languageId": "javascript"
    }
   },
   "outputs": [],
   "source": [
    "// Verificar que el texto de un elemento sea igual a \"Hola, Mundo\"\n",
    "cy.get('.mi-elemento').should('have.text', 'Hola, Mundo');"
   ]
  },
  {
   "cell_type": "markdown",
   "metadata": {},
   "source": [
    "#### 2. Valor de un Campo de Entrada:"
   ]
  },
  {
   "cell_type": "code",
   "execution_count": null,
   "metadata": {
    "vscode": {
     "languageId": "javascript"
    }
   },
   "outputs": [],
   "source": [
    "// Verificar que el valor de un campo de entrada sea igual a \"valorIntroducido\"\n",
    "cy.get('#mi-input').should('have.value', 'valorIntroducido');"
   ]
  },
  {
   "cell_type": "markdown",
   "metadata": {},
   "source": [
    "#### 3. Existencia de un Elemento:"
   ]
  },
  {
   "cell_type": "code",
   "execution_count": null,
   "metadata": {
    "vscode": {
     "languageId": "javascript"
    }
   },
   "outputs": [],
   "source": [
    "// Verificar que un elemento exista en el DOM\n",
    "cy.get('.mi-elemento').should('exist');"
   ]
  },
  {
   "cell_type": "markdown",
   "metadata": {},
   "source": [
    "#### 4. Visibilidad de un Elemento:"
   ]
  },
  {
   "cell_type": "code",
   "execution_count": null,
   "metadata": {
    "vscode": {
     "languageId": "javascript"
    }
   },
   "outputs": [],
   "source": [
    "// Verificar que un elemento sea visible\n",
    "cy.get('.elemento-visible').should('be.visible');"
   ]
  },
  {
   "cell_type": "markdown",
   "metadata": {},
   "source": [
    "#### 5. No Visibilidad de un Elemento:"
   ]
  },
  {
   "cell_type": "code",
   "execution_count": null,
   "metadata": {
    "vscode": {
     "languageId": "javascript"
    }
   },
   "outputs": [],
   "source": [
    "// Verificar que un elemento no sea visible\n",
    "cy.get('.elemento-no-visible').should('not.be.visible');"
   ]
  },
  {
   "cell_type": "markdown",
   "metadata": {},
   "source": [
    "# Assertion Avanzdas"
   ]
  },
  {
   "cell_type": "markdown",
   "metadata": {},
   "source": [
    "#### 1. Contenido HTML:"
   ]
  },
  {
   "cell_type": "code",
   "execution_count": null,
   "metadata": {
    "vscode": {
     "languageId": "javascript"
    }
   },
   "outputs": [],
   "source": [
    "// Verificar que el contenido HTML de un elemento contenga cierto fragmento\n",
    "cy.get('.mi-elemento').should('include.html', '<strong>Cypress</strong>');"
   ]
  },
  {
   "cell_type": "markdown",
   "metadata": {},
   "source": [
    "#### 2. Atributos de un Elemento:"
   ]
  },
  {
   "cell_type": "code",
   "execution_count": null,
   "metadata": {
    "vscode": {
     "languageId": "javascript"
    }
   },
   "outputs": [],
   "source": [
    "// Verificar que un elemento tenga un atributo específico\n",
    "cy.get('#mi-boton').should('have.attr', 'disabled');"
   ]
  },
  {
   "cell_type": "markdown",
   "metadata": {},
   "source": [
    "#### 3. Longitud de Elementos:"
   ]
  },
  {
   "cell_type": "code",
   "execution_count": null,
   "metadata": {
    "vscode": {
     "languageId": "javascript"
    }
   },
   "outputs": [],
   "source": [
    "// Verificar que existan exactamente 3 elementos coincidentes\n",
    "cy.get('.lista-elementos').should('have.length', 3);"
   ]
  }
 ],
 "metadata": {
  "language_info": {
   "name": "python"
  }
 },
 "nbformat": 4,
 "nbformat_minor": 2
}
