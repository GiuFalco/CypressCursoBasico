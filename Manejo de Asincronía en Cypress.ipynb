{
 "cells": [
  {
   "cell_type": "markdown",
   "metadata": {},
   "source": [
    "# Manejo de Asincronía\n",
    "\n",
    "El manejo de la asincronía en Cypress es fundamental, ya que las aplicaciones web modernas suelen involucrar operaciones asíncronas, como solicitudes de red, animaciones, y otros eventos que pueden afectar el comportamiento de la aplicación. Cypress aborda la asincronía de una manera que simplifica la escritura de pruebas y garantiza la estabilidad y la previsibilidad de las mismas."
   ]
  },
  {
   "cell_type": "markdown",
   "metadata": {},
   "source": [
    "#### 1. Espera Automática:\n",
    "\n",
    "Cypress realiza automáticamente la espera para que los elementos estén disponibles o para que las condiciones se cumplan antes de continuar con la ejecución de los comandos. Esto mejora la estabilidad de las pruebas en entornos asincrónicos."
   ]
  },
  {
   "cell_type": "code",
   "execution_count": null,
   "metadata": {
    "vscode": {
     "languageId": "javascript"
    }
   },
   "outputs": [],
   "source": [
    "// Cypress espera automáticamente a que el elemento sea visible antes de realizar clic\n",
    "cy.get('.mi-elemento').click();"
   ]
  },
  {
   "cell_type": "markdown",
   "metadata": {},
   "source": [
    "#### 2. Control Explícito del Tiempo de Espera:\n",
    "\n",
    "Aunque Cypress espera automáticamente, puedes ajustar manualmente el tiempo máximo de espera utilizando la opción timeout en un comando específico."
   ]
  },
  {
   "cell_type": "code",
   "execution_count": null,
   "metadata": {
    "vscode": {
     "languageId": "javascript"
    }
   },
   "outputs": [],
   "source": [
    "// Ajustar el tiempo máximo de espera a 5 segundos para este comando\n",
    "cy.get('.mi-elemento', { timeout: 5000 }).click();\n",
    "\n",
    "// Esperar explícitamente 3 segundos\n",
    "cy.wait(3000);"
   ]
  },
  {
   "cell_type": "markdown",
   "metadata": {},
   "source": [
    "#### 3. Comandos y Aserciones Retornan Promesas:\n",
    "\n",
    "Los comandos y las aserciones Cypress devuelven promesas, lo que permite encadenar acciones o realizar operaciones adicionales después de que se completa la acción asincrónica."
   ]
  },
  {
   "cell_type": "code",
   "execution_count": null,
   "metadata": {
    "vscode": {
     "languageId": "javascript"
    }
   },
   "outputs": [],
   "source": [
    "cy.get('.mi-elemento').click().then(() => {\n",
    "    // Esto se ejecutará después de que se complete el clic\n",
    "    // puedes realizar más acciones o aserciones aquí\n",
    "  });  "
   ]
  }
 ],
 "metadata": {
  "language_info": {
   "name": "python"
  }
 },
 "nbformat": 4,
 "nbformat_minor": 2
}
