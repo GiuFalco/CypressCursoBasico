{
 "cells": [
  {
   "cell_type": "markdown",
   "metadata": {},
   "source": [
    "# Interactuar con elementos de la página\n",
    "\n",
    "Interactuar con elementos de la página es una parte esencial de las pruebas con Cypress. La biblioteca proporciona una variedad de comandos que permiten seleccionar elementos, realizar acciones sobre ellos y verificar su estado."
   ]
  },
  {
   "cell_type": "markdown",
   "metadata": {},
   "source": [
    "### 1. Seleccionar Elementos en la Página:\n",
    "\n",
    "+ Para seleccionar elementos en la página, puedes utilizar selectores CSS o XPath. Cypress proporciona los comandos cy.get() y cy.xpath() para este propósito."
   ]
  },
  {
   "cell_type": "code",
   "execution_count": null,
   "metadata": {
    "vscode": {
     "languageId": "javascript"
    }
   },
   "outputs": [],
   "source": [
    "// Seleccionar un elemento por su clase CSS\n",
    "cy.get('.mi-clase').click();\n",
    "\n",
    "// Seleccionar un elemento por su identificador\n",
    "cy.get('#mi-id').type('Texto de ejemplo');\n",
    "\n",
    "// Seleccionar un elemento por su etiqueta\n",
    "cy.get('button').contains('Descargar').click();\n",
    "\n",
    "// Seccionar un elemento con xpath\n",
    "cy.xpath('//button[@id=\"moBoton\"]').click();"
   ]
  },
  {
   "cell_type": "markdown",
   "metadata": {},
   "source": [
    "### 2. Realizar Acciones sobre Elementos:\n",
    "\n",
    "+ Una vez que has seleccionado un elemento, puedes realizar diversas acciones sobre él, como hacer clic, llenar formularios, etc."
   ]
  },
  {
   "cell_type": "code",
   "execution_count": null,
   "metadata": {
    "vscode": {
     "languageId": "javascript"
    }
   },
   "outputs": [],
   "source": [
    "// Hacer clic en un botón\n",
    "cy.get('#mi-boton').click();\n",
    "\n",
    "// Llenar un campo de texto\n",
    "cy.get('#campo-usuario').type('nombredeusuario');\n",
    "\n",
    "// Seleccionar una casilla de verificación\n",
    "cy.get('[type=\"checkbox\"]').check();\n",
    "\n",
    "// Seleccionar un elemento de un menú desplegable\n",
    "cy.get('#menu-desplegable').select('Opción 1');"
   ]
  },
  {
   "cell_type": "markdown",
   "metadata": {},
   "source": [
    "### 3. Trabajar con Elementos Específicos:\n",
    "\n",
    "+ Cypress permite trabajar con elementos específicos de una lista o conjunto de elementos."
   ]
  },
  {
   "cell_type": "code",
   "execution_count": null,
   "metadata": {
    "vscode": {
     "languageId": "javascript"
    }
   },
   "outputs": [],
   "source": [
    "// Obtener el primer elemento de una lista\n",
    "cy.get('ul li').first().click();\n",
    "\n",
    "// Obtener el último elemento de una lista\n",
    "cy.get('ul li').last().click();\n",
    "\n",
    "// Obtener un elemento específico por su índice\n",
    "cy.get('ul li').eq(2).click();"
   ]
  },
  {
   "cell_type": "markdown",
   "metadata": {},
   "source": [
    "### 4. Encadenar Acciones:\n",
    "\n",
    "+ Cypress permite encadenar múltiples acciones para realizar operaciones complejas."
   ]
  },
  {
   "cell_type": "code",
   "execution_count": null,
   "metadata": {
    "vscode": {
     "languageId": "javascript"
    }
   },
   "outputs": [],
   "source": [
    "// Encadenar acciones para llenar un formulario\n",
    "cy.get('#nombre').type('John').should('have.value', 'John');\n",
    "cy.get('#apellido').type('Doe').should('have.value', 'Doe');\n",
    "cy.get('#submit-btn').click();"
   ]
  }
 ],
 "metadata": {
  "kernelspec": {
   "display_name": "Python 3",
   "language": "python",
   "name": "python3"
  },
  "language_info": {
   "codemirror_mode": {
    "name": "ipython",
    "version": 3
   },
   "file_extension": ".py",
   "mimetype": "text/x-python",
   "name": "python",
   "nbconvert_exporter": "python",
   "pygments_lexer": "ipython3",
   "version": "3.12.1"
  }
 },
 "nbformat": 4,
 "nbformat_minor": 2
}
