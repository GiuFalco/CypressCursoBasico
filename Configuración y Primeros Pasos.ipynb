{
 "cells": [
  {
   "cell_type": "markdown",
   "metadata": {},
   "source": [
    "# Configuración y Primeros Pasos:"
   ]
  },
  {
   "cell_type": "markdown",
   "metadata": {},
   "source": [
    "### 1. Descarga e Instalación de Node.js:\n",
    "\n",
    "+ Visita el sitio web oficial de Node.js en https://nodejs.org/.\n",
    "+ Descarga la versión LTS (Long Term Support), que es la recomendada para la mayoría de los usuarios.\n",
    "+ Sigue las instrucciones del instalador para completar la instalación.\n"
   ]
  },
  {
   "cell_type": "markdown",
   "metadata": {},
   "source": [
    "### 2. Verificación de la Instalación:\n",
    "+ Abre una terminal o línea de comandos.\n",
    "+ Ejecuta el siguiente comando para verificar que Node.js se haya instalado correctamente:"
   ]
  },
  {
   "cell_type": "code",
   "execution_count": null,
   "metadata": {
    "vscode": {
     "languageId": "powershell"
    }
   },
   "outputs": [],
   "source": [
    "node -v"
   ]
  },
  {
   "cell_type": "markdown",
   "metadata": {},
   "source": [
    "### 3. Instalación de npm (Node Package Manager):\n",
    "\n",
    "+ npm se instala automáticamente junto con Node.js.\n",
    "+ Verifica la instalación de npm ejecutando el siguiente comando:"
   ]
  },
  {
   "cell_type": "code",
   "execution_count": null,
   "metadata": {
    "vscode": {
     "languageId": "powershell"
    }
   },
   "outputs": [],
   "source": [
    "npm -v"
   ]
  },
  {
   "cell_type": "markdown",
   "metadata": {},
   "source": [
    "### 4. Instalación de Cypress\n",
    "\n",
    "Cypress es una herramienta de prueba para aplicaciones web modernas que se ejecuta en Node.js. Se instala como una dependencia de desarrollo en tu proyecto.\n",
    "\n",
    "##### Creación de un Proyecto:\n",
    "+ Crea un nuevo directorio para tu proyecto o navega al directorio existente de tu proyecto.\n",
    "##### Inicialización del Proyecto con npm:\n",
    "+ Abre una terminal en el directorio de tu proyecto.\n",
    "+ Ejecuta el siguiente comando para inicializar un archivo package.json en tu proyecto"
   ]
  },
  {
   "cell_type": "code",
   "execution_count": null,
   "metadata": {
    "vscode": {
     "languageId": "powershell"
    }
   },
   "outputs": [],
   "source": [
    "npm init"
   ]
  },
  {
   "cell_type": "markdown",
   "metadata": {},
   "source": [
    "#### Instalación de Cypress:\n",
    "\n",
    "+ En entornos empresariales o controlados, donde la administración de dependencias y actualizaciones puede estar más regulada, puedes preferir gestionar manualmente la instalación de herramientas como Cypress y proporcionar el binario directamente descagando el archivo proporcionado en la página oficial https://download.cypress.io/desktop."
   ]
  },
  {
   "cell_type": "markdown",
   "metadata": {},
   "source": [
    "+ Ejecuta el siguiente comando para configurar la instalación:"
   ]
  },
  {
   "cell_type": "code",
   "execution_count": null,
   "metadata": {
    "vscode": {
     "languageId": "powershell"
    }
   },
   "outputs": [],
   "source": [
    "setx CYPRESS_INSTALL_BINARY Ruta/del/archivo.zip"
   ]
  },
  {
   "cell_type": "markdown",
   "metadata": {},
   "source": [
    "+ Ejecuta el siguiente comando para instalar Cypress como una dependencia de desarrollo:"
   ]
  },
  {
   "cell_type": "code",
   "execution_count": null,
   "metadata": {
    "vscode": {
     "languageId": "powershell"
    }
   },
   "outputs": [],
   "source": [
    "npm install cypress --save-dev"
   ]
  },
  {
   "cell_type": "markdown",
   "metadata": {},
   "source": [
    "#### Apertura de Cypress Test Runner:\n",
    "\n",
    "+ Puedes abrir Cypress Test Runner ejecutando el siguiente comando:"
   ]
  },
  {
   "cell_type": "code",
   "execution_count": null,
   "metadata": {
    "vscode": {
     "languageId": "powershell"
    }
   },
   "outputs": [],
   "source": [
    "npx cypress open"
   ]
  }
 ],
 "metadata": {
  "kernelspec": {
   "display_name": "Python 3",
   "language": "python",
   "name": "python3"
  },
  "language_info": {
   "codemirror_mode": {
    "name": "ipython",
    "version": 3
   },
   "file_extension": ".py",
   "mimetype": "text/x-python",
   "name": "python",
   "nbconvert_exporter": "python",
   "pygments_lexer": "ipython3",
   "version": "3.12.1"
  }
 },
 "nbformat": 4,
 "nbformat_minor": 2
}
