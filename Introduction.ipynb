{
 "cells": [
  {
   "cell_type": "markdown",
   "metadata": {},
   "source": [
    "# Curso Básico de Cypress\n",
    "\n",
    "### Introducción\n",
    "¡Bienvenidos al Curso Básico de Cypress! En este curso, aprenderéis los fundamentos esenciales de Cypress, una potente herramienta de prueba de extremo a extremo para aplicaciones web modernas. \n",
    "\n",
    "Cypress simplifica la escritura y ejecución de pruebas, permitiéndote validar fácilmente el comportamiento de tu aplicación en distintos escenarios.\n"
   ]
  },
  {
   "cell_type": "markdown",
   "metadata": {},
   "source": [
    "# Objetivos del Curso\n",
    "###\tComprender los Conceptos Básicos de Cypress:\n",
    "\n",
    "+ Familiarizarte con la arquitectura de Cypress.\n",
    "+ Entender el ciclo de vida de una prueba en Cypress.\n",
    "+ Conocer la sintaxis básica de las pruebas en Cypress.\n",
    "\n",
    "### Configuración y Primeros Pasos:\n",
    "\n",
    "+ Instalar Cypress en tu proyecto.\n",
    "+ Configurar tu primer archivo de prueba.\n",
    "+ Ejecutar pruebas básicas en un navegador.\n",
    "\n",
    "### Interactuar con Elementos en la Página:\n",
    "\n",
    "+ Seleccionar elementos en la página.\n",
    "+ Realizar acciones como clics, llenado de formularios y más.\n",
    "\n",
    "### Assertions y Verificaciones:\n",
    "\n",
    "+ Aprender a utilizar afirmaciones para verificar el estado de la aplicación.\n",
    "+ Comprender cómo las afirmaciones ayudan a validar el comportamiento esperado.\n",
    "\n",
    "### Manejo de Asincronía en Cypress:\n",
    "\n",
    "+ Entender cómo Cypress maneja operaciones asíncronas.\n",
    "+ Utilizar comandos especiales para esperar y sincronizar con la aplicación.\n",
    "\n",
    "### Organización de Pruebas y Mejores Prácticas:\n",
    "\n",
    "+ Estructurar tus pruebas de manera efectiva.\n",
    "+ Implementar mejores prácticas para mantener un código limpio y mantenible.\n",
    "\n",
    "### Ejercicio Práctico\n",
    "\n",
    "+ Accede a la página https://automationexercise.com\n",
    "+ Regístrate\n",
    "+ Rellena el formulario\n",
    "+ Comprueba que la cuenta se haya creado correctamente\n",
    "+ Efectua el login introduciendo datos incorrectos controllando el error\n",
    "+ Efectua el login y comprueba que se haya efectuado correctamente\n",
    "+ Borra la cuenta\n",
    "+ Comprueba que la cuenta se haya borrado correctamente"
   ]
  }
 ],
 "metadata": {
  "kernelspec": {
   "display_name": "Python 3.10.9 64-bit (microsoft store)",
   "language": "python",
   "name": "python3"
  },
  "language_info": {
   "codemirror_mode": {
    "name": "ipython",
    "version": 3
   },
   "file_extension": ".py",
   "mimetype": "text/x-python",
   "name": "python",
   "nbconvert_exporter": "python",
   "pygments_lexer": "ipython3",
   "version": "3.10.9"
  },
  "orig_nbformat": 4,
  "vscode": {
   "interpreter": {
    "hash": "85aece5883f23cf93a903b25fd3f6a5833dab6da9d10cf403dbbc785be5e4181"
   }
  }
 },
 "nbformat": 4,
 "nbformat_minor": 2
}
